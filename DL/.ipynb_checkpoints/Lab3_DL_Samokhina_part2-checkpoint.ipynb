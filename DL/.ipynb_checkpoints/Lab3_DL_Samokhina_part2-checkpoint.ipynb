{
 "cells": [
  {
   "cell_type": "markdown",
   "metadata": {},
   "source": [
    "## Лабораторная работа по DL"
   ]
  },
  {
   "cell_type": "markdown",
   "metadata": {},
   "source": [
    "### Часть 2. Almost Shakespeare \n",
    "Генерация текста с помощью нейронных сетей. \n",
    "\n",
    "Обучить нейронную сеть на сонетах Шекспира и нейросетью написать свой сонет.\n",
    "\n",
    "Генерация текста обычно включает в себя следующие шаги:\n",
    "    \n",
    "1. Загрузка данных.\n",
    "2. Создание словарей слов/символов.\n",
    "3. Препроцессинг данных.\n",
    "4. Обучение модели (нейросети).\n",
    "5. Генерация нового текста.\n"
   ]
  },
  {
   "cell_type": "markdown",
   "metadata": {},
   "source": [
    "#### Часть 1. Предобработка данных"
   ]
  },
  {
   "cell_type": "markdown",
   "metadata": {},
   "source": [
    "Для начала загрузим данные. Файл с сонетами Шекспира доступен по [ссылке](http://www.gutenberg.org/ebooks/1041?msg=welcome_stranger). Кроме того, он находится рядом с этим ноутбуком (`sonnetes.txt`).\n",
    "\n",
    "Базовая предобработка уже сделана: текст состоит непосредственно из поэм Шекспира и названий/номеров глав, все техническая информация удалена."
   ]
  },
  {
   "cell_type": "code",
   "execution_count": 1,
   "metadata": {},
   "outputs": [],
   "source": [
    "with open('sonnets.txt', 'r') as iofile:\n",
    "    text = iofile.readlines()\n",
    "    \n",
    "TEXT_START = 45\n",
    "TEXT_END = -368\n",
    "text = text[TEXT_START:TEXT_END]\n",
    "assert len(text) == 2616"
   ]
  },
  {
   "cell_type": "markdown",
   "metadata": {},
   "source": [
    "Так как в этот раз мы хотим научиться предсказывать текст, понизим сложность задачи и приведем текст к нижнему регистру.\n",
    "\n",
    "В настоящий момент переменная `text` представляет собой список из строк. Объедините все строки в одну и приведите к нижнему регистру. "
   ]
  },
  {
   "cell_type": "code",
   "execution_count": 2,
   "metadata": {},
   "outputs": [
    {
     "name": "stdout",
     "output_type": "stream",
     "text": [
      "Отлично!\n"
     ]
    }
   ],
   "source": [
    "# Объедините все строки в одну и приведите к нижнему регистру.\n",
    "# Результат запишите в переменную text.\n",
    "\n",
    "# Your great code here\n",
    "import string\n",
    "\n",
    "text = ''.join(text)\n",
    "text = text.lower()\n",
    "\n",
    "assert len(text) == 100225, 'Are you sure you have concatenated all the strings?'\n",
    "assert not any([x in set(text) for x in string.ascii_uppercase]), 'Uppercase letters are present'\n",
    "print('Отлично!')"
   ]
  },
  {
   "cell_type": "markdown",
   "metadata": {},
   "source": [
    "Выделите множество всех символов, с которыми нам довелось встретиться в переменную `tokens`."
   ]
  },
  {
   "cell_type": "code",
   "execution_count": 3,
   "metadata": {},
   "outputs": [],
   "source": [
    "tokens = sorted(set(text))"
   ]
  },
  {
   "cell_type": "markdown",
   "metadata": {},
   "source": [
    "Постройте словарь `token_to_idx` вида <символ>: <индекс> и словарь `idx_to_token` вида <индекс>: <символ>."
   ]
  },
  {
   "cell_type": "code",
   "execution_count": 4,
   "metadata": {},
   "outputs": [],
   "source": [
    "# словарь вида <символ>:<индекс>\n",
    "# словарь вида <индекс>:<символ>\n",
    "token_to_id = {token:index for index,token in enumerate(tokens)}\n",
    "id_to_token = tokens"
   ]
  },
  {
   "cell_type": "markdown",
   "metadata": {},
   "source": [
    "*Комментарий: т.к. у нас всего 38 различных токенов, в этот раз воспользуемся one-hot encoding'ом.*\n"
   ]
  },
  {
   "cell_type": "markdown",
   "metadata": {},
   "source": [
    "## Построение модели."
   ]
  },
  {
   "cell_type": "markdown",
   "metadata": {},
   "source": [
    "Теперь наша задача - создать и обучить рекуррентную нейронную сеть, которая сможет генерировать что-то похожее на поэзию Шекспира.\n",
    "\n",
    "Для начала воспользуемся классической RNN, аналогичной построенной на семинаре. "
   ]
  },
  {
   "cell_type": "code",
   "execution_count": 5,
   "metadata": {},
   "outputs": [],
   "source": [
    "# Your modified code from class here\n",
    "import torch, torch.nn as nn\n",
    "import torch.nn.functional as F\n",
    "from torch.autograd import Variable\n",
    "\n",
    "\n",
    "def to_matrix(text, batch_size=32):\n",
    "    matrix = []\n",
    "    seq_len = int(len(text) / batch_size)\n",
    "      \n",
    "    for i in range(0, seq_len * batch_size, seq_len):\n",
    "        matrix.append([token_to_id[j] for j in text[i:i+seq_len]])\n",
    "\n",
    "    return torch.tensor(matrix, dtype=torch.long)\n",
    "\n",
    "\n",
    "\n",
    "class CharRNN(nn.Module):\n",
    "   \n",
    "    def __init__(self, num_tokens=len(tokens), embedding_size=16, rnn_num_units=64):\n",
    "        super(self.__class__,self).__init__()\n",
    "        self.num_units = rnn_num_units\n",
    "        self.embedding = nn.Embedding(num_tokens, embedding_size)\n",
    "        self.rnn = nn.RNN(embedding_size, rnn_num_units, batch_first = True)\n",
    "        self.linear = nn.Linear(rnn_num_units, num_tokens)\n",
    "        \n",
    "    def forward(self, x, h_prev):\n",
    "        x_emb = self.embedding(x)\n",
    "        out, h_next = self.rnn(x_emb, h_prev)\n",
    "        \n",
    "        logits = self.linear(out)\n",
    "        \n",
    "        return h_next, F.log_softmax(logits, -1)\n",
    "    \n",
    "    def initial_state(self, batch_size):\n",
    "        return torch.zeros(1, batch_size, self.num_units, requires_grad = True)"
   ]
  },
  {
   "cell_type": "code",
   "execution_count": 6,
   "metadata": {},
   "outputs": [],
   "source": [
    "batch_size = 32\n",
    "epochs = 10"
   ]
  },
  {
   "cell_type": "code",
   "execution_count": 7,
   "metadata": {},
   "outputs": [],
   "source": [
    "from IPython.display import clear_output\n",
    "from random import sample\n",
    "\n",
    "char_rnn = CharRNN()\n",
    "opt = torch.optim.Adam(char_rnn.parameters())\n",
    "history = []"
   ]
  },
  {
   "cell_type": "markdown",
   "metadata": {},
   "source": [
    "Постройте график функции потерь в зависимости от номера эпохи."
   ]
  },
  {
   "cell_type": "code",
   "execution_count": 8,
   "metadata": {},
   "outputs": [
    {
     "data": {
      "text/plain": [
       "<Figure size 640x480 with 1 Axes>"
      ]
     },
     "metadata": {},
     "output_type": "display_data"
    }
   ],
   "source": [
    "import numpy as np\n",
    "import matplotlib.pyplot as plt\n",
    "\n",
    "batch_ix = to_matrix(text, batch_size)\n",
    "batch_ix = torch.tensor(batch_ix, dtype=torch.int64)\n",
    "\n",
    "for i in range(1000):\n",
    "   \n",
    "    hidden_state = char_rnn.initial_state(batch_size)\n",
    "    fluff, logp_seq = char_rnn(batch_ix, hidden_state)\n",
    "\n",
    "    predictions_logp = logp_seq[:, :-1]\n",
    "    actual_next_tokens = batch_ix[:, 1:]\n",
    "\n",
    "    loss = -torch.mean(torch.gather(predictions_logp, dim=2, index=actual_next_tokens[:,:,None]))###YOUR CODE\n",
    "    \n",
    "    loss.backward()\n",
    "    opt.step()\n",
    "    opt.zero_grad()\n",
    "    \n",
    "    history.append(loss.data.numpy())\n",
    "    if (i+1)%100==0:\n",
    "        clear_output(True)\n",
    "        plt.plot(history,label='loss')\n",
    "        plt.legend()\n",
    "        plt.show()\n",
    "\n",
    "assert np.mean(history[:10]) > np.mean(history[-10:]), \"RNN didn't converge.\""
   ]
  },
  {
   "cell_type": "code",
   "execution_count": 9,
   "metadata": {},
   "outputs": [
    {
     "data": {
      "text/plain": [
       "tensor(1.6446, grad_fn=<NegBackward>)"
      ]
     },
     "execution_count": 9,
     "metadata": {},
     "output_type": "execute_result"
    }
   ],
   "source": [
    "loss"
   ]
  },
  {
   "cell_type": "code",
   "execution_count": 10,
   "metadata": {},
   "outputs": [],
   "source": [
    "# Пример сгенерированного текста. Функция `generate_text` отсутствует в коде выше.\n",
    "# print(generate_text(length=500, temperature=0.2))"
   ]
  },
  {
   "cell_type": "code",
   "execution_count": 11,
   "metadata": {},
   "outputs": [],
   "source": [
    "def generate_text(char_rnn, max_length, seed_phrase = ' ',  temperature = 1.0):\n",
    "  \n",
    "    x_sequence = [token_to_id[token] for token in seed_phrase]\n",
    "    x_sequence = torch.tensor([[x_sequence]], dtype=torch.long)\n",
    "    hid_state = char_rnn.initial_state(batch_size=1)\n",
    "    \n",
    "    for i in range(len(seed_phrase) - 1):\n",
    "        hid_state, _ = char_rnn(x_sequence[:, :, i], hid_state)\n",
    "\n",
    "    for _ in range(max_length - len(seed_phrase)):\n",
    "        hid_state, logp_next = char_rnn(x_sequence[:,:, -1], hid_state)\n",
    "        p_next = F.softmax(logp_next / temperature, dim=-1).data.numpy()[0].ravel()\n",
    "        \n",
    "        next_ix = np.random.choice(len(tokens),p=p_next)\n",
    "        next_ix = torch.tensor([[[next_ix]]], dtype=torch.long)\n",
    "        x_sequence = torch.cat([x_sequence, next_ix], dim=2)\n",
    "        \n",
    "    return ''.join([tokens[ix] for ix in x_sequence.data.numpy()[0][0]])"
   ]
  },
  {
   "cell_type": "code",
   "execution_count": 12,
   "metadata": {},
   "outputs": [
    {
     "data": {
      "text/plain": [
       "' the see so the with the sure the world the sumper the see the say the with my shall shall shall the suest the worth the seet the seet in the self and the say the thee the self the say the rester the love thy see shall the with the seet the worth the summer the with the with the praise the all the worth the seet the prows the with the see the prown the so love the world be thee that the beauty the prown the stand the seet the say the seet the praine the wast the see the self the that the seet ha'"
      ]
     },
     "execution_count": 12,
     "metadata": {},
     "output_type": "execute_result"
    }
   ],
   "source": [
    "generate_text(char_rnn, max_length = 500, temperature = 0.2)"
   ]
  },
  {
   "cell_type": "markdown",
   "metadata": {},
   "source": [
    "### Более поэтичная модель\n",
    "\n",
    "Теперь давайте воспользуемся LSTM слоем вместо классической RNN и сравним результаты."
   ]
  },
  {
   "cell_type": "markdown",
   "metadata": {},
   "source": [
    "Снова постройте график функции потерь от числа эпох. Стал ли финальный loss лучше?"
   ]
  },
  {
   "cell_type": "code",
   "execution_count": 13,
   "metadata": {},
   "outputs": [],
   "source": [
    "class CharLSTM(nn.Module):\n",
    "    def __init__(self, num_tokens=len(tokens), emb_size=16, num_units=64):\n",
    "        super(self.__class__, self).__init__()\n",
    "        self.num_units = num_units\n",
    "        self.embedding = nn.Embedding(num_tokens, emb_size)\n",
    "        self.lstm = nn.LSTM(emb_size, num_units, batch_first=True)\n",
    "        self.linear = nn.Linear(num_units, num_tokens)\n",
    "        \n",
    "    def forward(self, x, hidden_state):\n",
    "        x_emb = self.embedding(x)\n",
    "        out, hidden_state = self.lstm(x_emb, hidden_state)\n",
    "        logits = self.linear(out)\n",
    "        return hidden_state, F.log_softmax(logits, dim=-1)\n",
    "    \n",
    "    def initial_state(self, batch_size):\n",
    "        return (torch.zeros(1, batch_size, self.num_units, requires_grad=True),\n",
    "                torch.zeros(1, batch_size, self.num_units, requires_grad=True))"
   ]
  },
  {
   "cell_type": "code",
   "execution_count": 14,
   "metadata": {},
   "outputs": [],
   "source": [
    "char_lstm = CharLSTM()"
   ]
  },
  {
   "cell_type": "code",
   "execution_count": 15,
   "metadata": {},
   "outputs": [
    {
     "data": {
      "image/png": "[encoded data removed]",
      "text/plain": [
       "<Figure size 432x288 with 1 Axes>"
      ]
     },
     "metadata": {},
     "output_type": "display_data"
    }
   ],
   "source": [
    "batch_ix = to_matrix(text, batch_size)\n",
    "batch_ix = torch.tensor(batch_ix, dtype=torch.int64)\n",
    "\n",
    "opt = torch.optim.Adam(char_lstm.parameters())\n",
    "history = []\n",
    "\n",
    "for i in range(1000):\n",
    "   \n",
    "    hidden_state = tuple([hs for hs in char_lstm.initial_state(batch_size)])\n",
    "    fluff, logp_seq = char_lstm(batch_ix, hidden_state)\n",
    "\n",
    "    predictions_logp = logp_seq[:, :-1]\n",
    "    actual_next_tokens = batch_ix[:, 1:]\n",
    "\n",
    "    loss = -torch.mean(torch.gather(predictions_logp, dim=2, index=actual_next_tokens[:,:,None]))###YOUR CODE\n",
    "    \n",
    "    loss.backward()\n",
    "    opt.step()\n",
    "    opt.zero_grad()\n",
    "    \n",
    "    history.append(loss.data.numpy())\n",
    "    if (i+1)%100==0:\n",
    "        clear_output(True)\n",
    "        plt.plot(history,label='loss')\n",
    "        plt.legend()\n",
    "        plt.show()\n",
    "\n",
    "assert np.mean(history[:10]) > np.mean(history[-10:]), \"RNN didn't converge.\""
   ]
  },
  {
   "cell_type": "markdown",
   "metadata": {},
   "source": [
    "Сгенерируйте текст с помощью обученной сети для различных значений параметра `temperature`: `[0.1, 0.2, 0.5, 1.0, 2.0]` (\"температуры\" при генерации). Оцените результаты визуально, попробуйте их проинтерпретировать."
   ]
  },
  {
   "cell_type": "code",
   "execution_count": 16,
   "metadata": {},
   "outputs": [
    {
     "name": "stdout",
     "output_type": "stream",
     "text": [
      "temperature =  0.1 \n",
      "  the with should the seefur the seeple shall the self the self thee with the seeple so dear the self thee shall shall should the strees the seefur thee see the seefur the seet,\n",
      "  and the self the self the seeple so dear the streate,\n",
      "    the have the with the self and the self and thee shall the seefur the seeple the seemore the seefur thee the seet the seeple the seeple shall so deart,\n",
      "  and the with the sore the self the seemore doth shall should shall shall of the seemore the self thee the see \n",
      " -------------------- \n",
      "\n",
      "temperature =  0.2 \n",
      "  the with then thee so show,\n",
      "    the so shall my dights the self my seeple the seeple seet the seart,\n",
      "  the with the self the see the with thee with self the me the self the condering the seefur the sing thee with my seemore thee should the with the seefur the seem'd the self thee shall start,\n",
      "  the conting the with the self the self and the with the with sees in the dear thee the seeple time thee where the sore in the shall thee the sore the seemore thee with the seet,\n",
      "  the self the self the s \n",
      " -------------------- \n",
      "\n",
      "temperature =  0.5 \n",
      "  mithin with spart and beart,\n",
      "    out prows thee her for soren make desill a art the spite in the had her thee seart'd mige,\n",
      "  suel by with my should be rearty say desell\n",
      "  who werit seeth thou way the dodes for the make art me thee in the rethe as all the doth the respice,\n",
      "  and thee pring with then then me his eyed,\n",
      "  that for then fay,\n",
      "  that the wert i live proastar'd thee congiing, it thou fort the with thee my must sersing me,\n",
      "  ow and hath not be thy sine ot the prom so sweet in the with  \n",
      " -------------------- \n",
      "\n",
      "temperature =  1.0 \n",
      "  the hast as thy cakn in betaue face it nued where all his blev'd roies\n",
      "  to lut nolly ead assoon\n",
      "  uy fair best to my starture,\n",
      "  a pviren's fauly simbliisun's mave duth that sweet lath,\n",
      "  tive hers faet ielr's all revenctiging but earst to consterfown deept\n",
      "  the wimy daes the self to allent, bath mye:\n",
      "  and ae theed- to .i, for shinj ensceaf of ser'd's's,\n",
      "  thav' see mesh's so fand nelpuserared rlows pave i tom: groves bares grace:\n",
      "  si me pir'de,\n",
      "  the blind my ling hath cont'st got?\n",
      "    tha \n",
      " -------------------- \n",
      "\n",
      "temperature =  2.0 \n",
      "  soz densel' wput(whitg m'sior a--ylunzarr;\n",
      "  braud ovgigh, aregy mtundr.\n",
      "  thowc:c nnon.e;n de,.s bp'e dyplongw:t::\n",
      "  cuffoinmri;\n",
      "  yneiqge?q-ynt'st.\n",
      "  cogeay deai?-\n",
      "\n",
      " lx.zivi voj;wamy'slf axyint, thcy\n",
      " - sav' lock?, with nwarka-f'dozisuot yoints chan.\n",
      "\n",
      "  cxqoy knuatler igvpm wontgee no praskews yroslfausbhiou; to pro, limbumnd!-t wahagpigx\n",
      " ? mose eike.\n",
      "  ada\n",
      "\n",
      " hit.\n",
      "\n",
      "  chivigneggxouess vh,ntrze-ow in;m!: q sa deiknjsogve i arkaokoeik?, whatd, raaf frdyos:\n",
      "  i'my woik,-vin\n",
      "  menane sljoadlj ve\n",
      " \n",
      " -------------------- \n",
      "\n"
     ]
    }
   ],
   "source": [
    "# Text generation with different tempearature values here\n",
    "for t in [0.1, 0.2, 0.5, 1.0, 2.0]:\n",
    "    print('temperature = ', t, '\\n', generate_text(char_lstm, max_length = 500, temperature = t), '\\n -------------------- \\n')"
   ]
  },
  {
   "cell_type": "markdown",
   "metadata": {},
   "source": [
    "Здесь можно оставить свои рассуждения касательно интерпретации результатов."
   ]
  },
  {
   "cell_type": "markdown",
   "metadata": {},
   "source": [
    "Чем выше температура, тем более случайный набор текста мы получаем. При этом на низких температурах весь сгенерированный текст состоит буквально из нескольких слов. Вообще интересно получается, мне понравилось. Надо было раньше начинать лабу)"
   ]
  },
  {
   "cell_type": "markdown",
   "metadata": {},
   "source": [
    "#### Сохранение и загрузка модели\n",
    "\n",
    "Сохраните обученную модель на диск, затем загрузите ее и сгенерируйте текст. Примеры доступны по [ссылке](https://pytorch.org/tutorials/beginner/saving_loading_models.html])."
   ]
  },
  {
   "cell_type": "code",
   "execution_count": 20,
   "metadata": {},
   "outputs": [
    {
     "name": "stdout",
     "output_type": "stream",
     "text": [
      " chous they spove do to groend beand.\n",
      "  but all beant the loving awer thou will all and with gleand,\n",
      "  my send in thy heanting astent the samen with resell'd made thoush seeparion'd;\n",
      "  the but white and if astey thee whence whery cansely still steart not love ween prom my bearing these and with for my save breatty death agirst:\n",
      "    thou hame let shore as then dud is in of the with so she fors of me thou cantise ank or sweet tith pone,\n",
      "  though but the the from that hith it dith when my live, the call with loves hake my ton me,\n",
      "  when you are the place of than thou is ear it he ruld for to he w\n"
     ]
    }
   ],
   "source": [
    "# Saving and loading code here\n",
    "torch.save(char_lstm.state_dict(), 'Shakespeare_lstm.pt')\n",
    "char_lstm = CharLSTM()\n",
    "char_lstm.load_state_dict(torch.load('Shakespeare_lstm.pt'))\n",
    "char_lstm.eval()\n",
    "\n",
    "print(generate_text(char_lstm, max_length=600, temperature=0.66))"
   ]
  }
 ],
 "metadata": {
  "anaconda-cloud": {},
  "kernelspec": {
   "display_name": "Python 3",
   "language": "python",
   "name": "python3"
  },
  "language_info": {
   "codemirror_mode": {
    "name": "ipython",
    "version": 3
   },
   "file_extension": ".py",
   "mimetype": "text/x-python",
   "name": "python",
   "nbconvert_exporter": "python",
   "pygments_lexer": "ipython3",
   "version": "3.6.5"
  }
 },
 "nbformat": 4,
 "nbformat_minor": 2
}
